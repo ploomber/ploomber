{
 "cells": [
  {
   "cell_type": "code",
   "execution_count": null,
   "id": "793b5c5c",
   "metadata": {
    "tags": [
     "parameters"
    ]
   },
   "outputs": [],
   "source": [
    "# declare a list tasks whose products you want to use as inputs\n",
    "upstream = None\n",
    "some_param = 1"
   ]
  },
  {
   "cell_type": "code",
   "execution_count": null,
   "id": "fe818bdd",
   "metadata": {},
   "outputs": [],
   "source": [
    "print(f\"hello {some_param}\")"
   ]
  }
 ],
 "metadata": {
  "kernelspec": {
   "display_name": "Python 3 (ipykernel)",
   "language": "python",
   "name": "python3"
  },
  "language_info": {
   "codemirror_mode": {
    "name": "ipython",
    "version": 3
   },
   "file_extension": ".py",
   "mimetype": "text/x-python",
   "name": "python",
   "nbconvert_exporter": "python",
   "pygments_lexer": "ipython3",
   "version": "3.9.13"
  },
  "papermill": {
   "parameters": {
    "product": "C:\\Users\\User\\Documents\\ploomber\\environmnets\\yafim-git-forked\\ploomber\\tests\\assets\\test-nb-inject-assets\\report-c.ipynb",
    "some_param": "c"
   }
  },
  "ploomber": {
   "injected_manually": true
  }
 },
 "nbformat": 4,
 "nbformat_minor": 5
}
