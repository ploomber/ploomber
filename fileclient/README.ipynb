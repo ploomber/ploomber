{
 "cells": [
  {
   "cell_type": "markdown",
   "id": "fb4f7724",
   "metadata": {
    "papermill": {
     "duration": 0.014293,
     "end_time": "2022-02-21T16:14:15.579258",
     "exception": false,
     "start_time": "2022-02-21T16:14:15.564965",
     "status": "completed"
    },
    "tags": []
   },
   "source": [
    "To run this example locally, [install Ploomber](https://docs.ploomber.io/en/latest/get-started/quick-start.html) and execute: `ploomber examples -n cookbook/file-client`\n",
    "\n",
    "To start a free, hosted JupyterLab: [![binder-logo](https://mybinder.org/badge_logo.svg)](https://mybinder.org/v2/gh/ploomber/binder-env/main?urlpath=git-pull%3Frepo%3Dhttps%253A%252F%252Fgithub.com%252Fploomber%252Fprojects%26urlpath%3Dlab%252Ftree%252Fprojects%252Fcookbook/file-client%252FREADME.ipynb%26branch%3Dmaster)\n",
    "\n",
    "Found an issue? [Let us know.](https://github.com/ploomber/projects/issues/new?title=cookbook/file-client%20issue)\n",
    "\n",
    "Have questions? [Ask us anything on Slack.](https://ploomber.io/community/)\n"
   ]
  },
  {
   "cell_type": "markdown",
   "id": "a93dbb03",
   "metadata": {
    "papermill": {
     "duration": 0.008466,
     "end_time": "2022-02-21T16:14:15.596769",
     "exception": false,
     "start_time": "2022-02-21T16:14:15.588303",
     "status": "completed"
    },
    "tags": []
   },
   "source": [
    "# File client\n",
    "\n",
    "<!-- start description -->\n",
    "Upload task's products upon execution (local, S3, GCloud storage)\n",
    "<!-- end description -->\n",
    "\n",
    "Run the pipeline:"
   ]
  },
  {
   "cell_type": "code",
   "execution_count": 1,
   "id": "938eb658",
   "metadata": {
    "execution": {
     "iopub.execute_input": "2022-02-21T16:14:15.624282Z",
     "iopub.status.busy": "2022-02-21T16:14:15.623515Z",
     "iopub.status.idle": "2022-02-21T16:14:24.148633Z",
     "shell.execute_reply": "2022-02-21T16:14:24.149619Z"
    },
    "papermill": {
     "duration": 8.544632,
     "end_time": "2022-02-21T16:14:24.150086",
     "exception": false,
     "start_time": "2022-02-21T16:14:15.605454",
     "status": "completed"
    },
    "tags": []
   },
   "outputs": [
    {
     "name": "stdout",
     "output_type": "stream",
     "text": [
      "name         Ran?      Elapsed (s)    Percentage\n",
      "-----------  ------  -------------  ------------\n",
      "create_file  True         0.001491       27.8483\n",
      "some-script  True         0.003863       72.1517\n"
     ]
    },
    {
     "name": "stderr",
     "output_type": "stream",
     "text": [
      "/Users/Edu/miniconda3/envs/projects/lib/python3.9/site-packages/papermill/iorw.py:50: FutureWarning: pyarrow.HadoopFileSystem is deprecated as of 2.0.0, please use pyarrow.fs.HadoopFileSystem instead.\n",
      "  from pyarrow import HadoopFileSystem\n",
      "\r",
      "  0%|          | 0/2 [00:00<?, ?it/s]\r",
      "Downloading product 'create_file':   0%|          | 0/2 [00:00<?, ?it/s]/Users/Edu/miniconda3/envs/projects/lib/python3.9/site-packages/papermill/iorw.py:50: FutureWarning: pyarrow.HadoopFileSystem is deprecated as of 2.0.0, please use pyarrow.fs.HadoopFileSystem instead.\n",
      "  from pyarrow import HadoopFileSystem\n",
      "\r",
      "Downloading product 'create_file':  50%|█████     | 1/2 [00:03<00:03,  3.13s/it]\r",
      "Downloading product 'some-script':  50%|█████     | 1/2 [00:03<00:03,  3.13s/it]\r",
      "Downloading product 'some-script': 100%|██████████| 2/2 [00:03<00:00,  1.57s/it]\n"
     ]
    }
   ],
   "source": [
    "%%sh\n",
    "ploomber build"
   ]
  },
  {
   "cell_type": "markdown",
   "id": "e7604854",
   "metadata": {
    "papermill": {
     "duration": 0.013086,
     "end_time": "2022-02-21T16:14:24.178241",
     "exception": false,
     "start_time": "2022-02-21T16:14:24.165155",
     "status": "completed"
    },
    "tags": []
   },
   "source": [
    "The pipeline has a `LocalStorageClient` configured; you'll see a copy of the\n",
    "products in the `backup` directory. See the `pipeline.yaml` to see how to\n",
    "switch to S3 and Google Cloud Storage."
   ]
  }
 ],
 "metadata": {
  "kernelspec": {
   "display_name": "Python 3 (ipykernel)",
   "language": "python",
   "name": "python3"
  },
  "language_info": {
   "codemirror_mode": {
    "name": "ipython",
    "version": 3
   },
   "file_extension": ".py",
   "mimetype": "text/x-python",
   "name": "python",
   "nbconvert_exporter": "python",
   "pygments_lexer": "ipython3",
   "version": "3.9.7"
  },
  "papermill": {
   "default_parameters": {},
   "duration": 10.359538,
   "end_time": "2022-02-21T16:14:24.403762",
   "environment_variables": {},
   "exception": null,
   "input_path": "cookbook/file-client/_build/readme_preprocessed.ipynb",
   "output_path": "cookbook/file-client/README.ipynb",
   "parameters": {},
   "start_time": "2022-02-21T16:14:14.044224",
   "version": "2.3.3"
  }
 },
 "nbformat": 4,
 "nbformat_minor": 5
}